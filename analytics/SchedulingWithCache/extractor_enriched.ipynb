{
 "cells": [
  {
   "cell_type": "markdown",
   "metadata": {},
   "source": [
    "# Extracts trace data from Elasticsearch and saves it in HDF5 files\n"
   ]
  },
  {
   "cell_type": "code",
   "execution_count": 1,
   "metadata": {},
   "outputs": [],
   "source": [
    "from elasticsearch import Elasticsearch\n",
    "from elasticsearch.helpers import scan\n",
    "import pandas as pd\n",
    "import numpy as np\n"
   ]
  },
  {
   "cell_type": "markdown",
   "metadata": {},
   "source": [
    "### select sites and time periods\n"
   ]
  },
  {
   "cell_type": "code",
   "execution_count": 2,
   "metadata": {},
   "outputs": [
    {
     "name": "stdout",
     "output_type": "stream",
     "text": [
      "start: 2018-08-01 00:00:00 end: 2018-09-01 00:00:00\n"
     ]
    }
   ],
   "source": [
    "start_date = '2018-08-01 00:00:00'\n",
    "end_date = '2018-09-01 00:00:00'\n",
    "site = 'MWT2'\n",
    "\n",
    "print(\"start:\", start_date, \"end:\", end_date)\n",
    "start = int(pd.Timestamp(start_date).timestamp())\n",
    "end = int(pd.Timestamp(end_date).timestamp())\n"
   ]
  },
  {
   "cell_type": "markdown",
   "metadata": {},
   "source": [
    "### select kind of traces to export and name your dataset\n"
   ]
  },
  {
   "cell_type": "code",
   "execution_count": 3,
   "metadata": {},
   "outputs": [],
   "source": [
    "dataset = 'prod_AUG'\n",
    "trace_query = {\n",
    "    \"_source\": [\"time_start\", \"time_end\", \"site\", \"event\", \"scope\", \"filename\", \"filesize\", \"pandaID\"],\n",
    "    'query': {\n",
    "        'bool': {\n",
    "            'must': [\n",
    "                {'range': {'time_start': {'gte': start, 'lt': end}}},\n",
    "                {'exists': {\"field\": \"filename\"}},\n",
    "                {'exists': {\"field\": \"pandaID\"}},\n",
    "                {'wildcard': {'site': site + '*'}},\n",
    "                # {'wildcard': {'filename': 'EVNT*'}},\n",
    "                #                 {'wildcard': {'event': 'get_sm*'}},\n",
    "                {'term': {'event': 'get_sm'}}\n",
    "                # {'term': {'event': 'get_sm_a'}},\n",
    "                # {'term': {'event': 'download'}},\n",
    "            ]\n",
    "        }\n",
    "    }\n",
    "}\n",
    "\n",
    "\n",
    "es = Elasticsearch(['atlas-kibana.mwt2.org:9200'], timeout=60)\n"
   ]
  },
  {
   "cell_type": "markdown",
   "metadata": {},
   "source": [
    "### Does scan\n"
   ]
  },
  {
   "cell_type": "code",
   "execution_count": 4,
   "metadata": {},
   "outputs": [
    {
     "name": "stdout",
     "output_type": "stream",
     "text": [
      "0\n",
      "100000\n",
      "200000\n",
      "300000\n",
      "400000\n",
      "500000\n",
      "600000\n",
      "700000\n",
      "800000\n",
      "900000\n",
      "1000000\n",
      "1100000\n",
      "1200000\n",
      "1300000\n",
      "1400000\n",
      "1500000\n",
      "1600000\n",
      "1700000\n",
      "1800000\n",
      "1900000\n",
      "2000000\n",
      "2100000\n",
      "2200000\n",
      "2300000\n",
      "2400000\n",
      "2500000\n",
      "2600000\n",
      "2700000\n",
      "2800000\n",
      "2900000\n",
      "3000000\n",
      "3100000\n",
      "3200000\n",
      "3300000\n",
      "3400000\n",
      "3500000\n",
      "3600000\n",
      "3700000\n",
      "3800000\n",
      "3900000\n",
      "4000000\n",
      "4100000\n"
     ]
    }
   ],
   "source": [
    "scroll = scan(client=es, index=\"traces\", query=trace_query)\n",
    "count = 0\n",
    "requests = []\n",
    "for res in scroll:\n",
    "    r = res['_source']\n",
    "    requests.append([r['scope'] + ':' + r['filename'], r['filesize'], r['time_start'], r['pandaID']])\n",
    "\n",
    "    if not count % 100000:\n",
    "        print(count)\n",
    "#     if count>300:\n",
    "#         break\n",
    "    count = count + 1\n",
    "\n",
    "all_accesses = pd.DataFrame(requests).sort_values(3)\n",
    "all_accesses.columns = ['filename', 'filesize', 'transfer_start', 'pandaid']"
   ]
  },
  {
   "cell_type": "markdown",
   "metadata": {},
   "source": [
    "### finds wall time, cores for all jobs.\n"
   ]
  },
  {
   "cell_type": "code",
   "execution_count": 5,
   "metadata": {},
   "outputs": [
    {
     "name": "stdout",
     "output_type": "stream",
     "text": [
      "Unique PandaIDs 457593 min 4009106692 max 4043589941\n"
     ]
    }
   ],
   "source": [
    "pids = all_accesses.pandaid.unique()\n",
    "minpid = all_accesses.pandaid.min()\n",
    "maxpid = all_accesses.pandaid.max()\n",
    "print(\"Unique PandaIDs\", len(pids), \"min\", minpid, \"max\", maxpid)\n"
   ]
  },
  {
   "cell_type": "code",
   "execution_count": 6,
   "metadata": {},
   "outputs": [
    {
     "name": "stdout",
     "output_type": "stream",
     "text": [
      "0\n",
      "100000\n",
      "200000\n",
      "300000\n",
      "400000\n",
      "500000\n",
      "600000\n",
      "700000\n",
      "800000\n"
     ]
    }
   ],
   "source": [
    "job_query = {\n",
    "    \"_source\": [\"actualcorecount\", \"wall_time\", \"pandaid\"],\n",
    "    'query': {\n",
    "        'bool': {\n",
    "            'must': [\n",
    "                {'range': {'pandaid': {'gte': int(minpid), 'lt': int(maxpid)}}},\n",
    "                {'wildcard': {'computingsite': site + '*'}}\n",
    "            ]\n",
    "        }\n",
    "    }\n",
    "}\n",
    "\n",
    "scroll = scan(client=es, index=\"jobs\", query=job_query)\n",
    "count = 0\n",
    "requests = []\n",
    "for res in scroll:\n",
    "    r = res['_source']\n",
    "    requests.append([r['pandaid'], r['wall_time'], r['actualcorecount']])\n",
    "\n",
    "    if not count % 100000:\n",
    "        print(count)\n",
    "#     if count>300:\n",
    "#         break\n",
    "    count = count + 1\n"
   ]
  },
  {
   "cell_type": "code",
   "execution_count": 7,
   "metadata": {},
   "outputs": [
    {
     "data": {
      "text/html": [
       "<div>\n",
       "<style scoped>\n",
       "    .dataframe tbody tr th:only-of-type {\n",
       "        vertical-align: middle;\n",
       "    }\n",
       "\n",
       "    .dataframe tbody tr th {\n",
       "        vertical-align: top;\n",
       "    }\n",
       "\n",
       "    .dataframe thead th {\n",
       "        text-align: right;\n",
       "    }\n",
       "</style>\n",
       "<table border=\"1\" class=\"dataframe\">\n",
       "  <thead>\n",
       "    <tr style=\"text-align: right;\">\n",
       "      <th></th>\n",
       "      <th>filesize</th>\n",
       "      <th>transfer_start</th>\n",
       "      <th>wall_time</th>\n",
       "      <th>cores</th>\n",
       "    </tr>\n",
       "  </thead>\n",
       "  <tbody>\n",
       "    <tr>\n",
       "      <th>count</th>\n",
       "      <td>4.125484e+06</td>\n",
       "      <td>4.125484e+06</td>\n",
       "      <td>4.125484e+06</td>\n",
       "      <td>4.125091e+06</td>\n",
       "    </tr>\n",
       "    <tr>\n",
       "      <th>mean</th>\n",
       "      <td>1.908431e+09</td>\n",
       "      <td>1.534565e+09</td>\n",
       "      <td>1.618903e+04</td>\n",
       "      <td>5.924798e+00</td>\n",
       "    </tr>\n",
       "    <tr>\n",
       "      <th>std</th>\n",
       "      <td>1.668771e+09</td>\n",
       "      <td>8.219335e+05</td>\n",
       "      <td>1.390129e+04</td>\n",
       "      <td>3.196866e+00</td>\n",
       "    </tr>\n",
       "    <tr>\n",
       "      <th>min</th>\n",
       "      <td>9.723000e+03</td>\n",
       "      <td>1.533082e+09</td>\n",
       "      <td>-5.849000e+03</td>\n",
       "      <td>1.000000e+00</td>\n",
       "    </tr>\n",
       "    <tr>\n",
       "      <th>25%</th>\n",
       "      <td>2.398601e+08</td>\n",
       "      <td>1.533845e+09</td>\n",
       "      <td>4.407000e+03</td>\n",
       "      <td>1.000000e+00</td>\n",
       "    </tr>\n",
       "    <tr>\n",
       "      <th>50%</th>\n",
       "      <td>2.024002e+09</td>\n",
       "      <td>1.534643e+09</td>\n",
       "      <td>1.843900e+04</td>\n",
       "      <td>8.000000e+00</td>\n",
       "    </tr>\n",
       "    <tr>\n",
       "      <th>75%</th>\n",
       "      <td>3.156628e+09</td>\n",
       "      <td>1.535348e+09</td>\n",
       "      <td>2.246700e+04</td>\n",
       "      <td>8.000000e+00</td>\n",
       "    </tr>\n",
       "    <tr>\n",
       "      <th>max</th>\n",
       "      <td>1.201436e+10</td>\n",
       "      <td>1.535760e+09</td>\n",
       "      <td>4.468370e+05</td>\n",
       "      <td>8.000000e+00</td>\n",
       "    </tr>\n",
       "  </tbody>\n",
       "</table>\n",
       "</div>"
      ],
      "text/plain": [
       "           filesize  transfer_start     wall_time         cores\n",
       "count  4.125484e+06    4.125484e+06  4.125484e+06  4.125091e+06\n",
       "mean   1.908431e+09    1.534565e+09  1.618903e+04  5.924798e+00\n",
       "std    1.668771e+09    8.219335e+05  1.390129e+04  3.196866e+00\n",
       "min    9.723000e+03    1.533082e+09 -5.849000e+03  1.000000e+00\n",
       "25%    2.398601e+08    1.533845e+09  4.407000e+03  1.000000e+00\n",
       "50%    2.024002e+09    1.534643e+09  1.843900e+04  8.000000e+00\n",
       "75%    3.156628e+09    1.535348e+09  2.246700e+04  8.000000e+00\n",
       "max    1.201436e+10    1.535760e+09  4.468370e+05  8.000000e+00"
      ]
     },
     "execution_count": 7,
     "metadata": {},
     "output_type": "execute_result"
    }
   ],
   "source": [
    "all_jobs = pd.DataFrame(requests).sort_values(0)\n",
    "all_jobs.columns = ['pandaid', 'wall_time', 'cores']\n",
    "all_accesses.set_index('pandaid', drop=True, inplace=True)\n",
    "all_jobs.set_index('pandaid', drop=True, inplace=True)\n",
    "\n",
    "all=all_accesses.join(all_jobs,how='inner')\n",
    "all.describe()"
   ]
  },
  {
   "cell_type": "code",
   "execution_count": 8,
   "metadata": {},
   "outputs": [
    {
     "name": "stdout",
     "output_type": "stream",
     "text": [
      "(4125484, 5)\n",
      "Done.\n"
     ]
    }
   ],
   "source": [
    "all.set_index('filename', drop=True, inplace=True)\n",
    "all.to_hdf(site + '_' + dataset + '.h5', key=site, mode='w', complevel=1)"
   ]
  },
  {
   "cell_type": "code",
   "execution_count": 9,
   "metadata": {},
   "outputs": [
    {
     "name": "stdout",
     "output_type": "stream",
     "text": [
      "traces: 4137233\n",
      "jobs: 810667\n",
      "merged: 4125484\n",
      "Done.\n"
     ]
    }
   ],
   "source": [
    "print('traces:',all_accesses.shape[0])\n",
    "print('jobs:',all_jobs.shape[0])\n",
    "print('merged:',all.shape[0])\n",
    "print('Done.')"
   ]
  }
 ],
 "metadata": {
  "file_extension": ".py",
  "kernelspec": {
   "display_name": "Python 3",
   "language": "python",
   "name": "python3"
  },
  "language_info": {
   "codemirror_mode": {
    "name": "ipython",
    "version": 3
   },
   "file_extension": ".py",
   "mimetype": "text/x-python",
   "name": "python",
   "nbconvert_exporter": "python",
   "pygments_lexer": "ipython3",
   "version": "3.5.2"
  },
  "mimetype": "text/x-python",
  "name": "python",
  "npconvert_exporter": "python",
  "pygments_lexer": "ipython3",
  "version": 3
 },
 "nbformat": 4,
 "nbformat_minor": 2
}
