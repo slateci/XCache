{
 "cells": [
  {
   "cell_type": "markdown",
   "metadata": {},
   "source": [
    "# Extracts jobs and traces data\n"
   ]
  },
  {
   "cell_type": "code",
   "execution_count": 1,
   "metadata": {},
   "outputs": [],
   "source": [
    "from elasticsearch import Elasticsearch\n",
    "from elasticsearch.helpers import scan\n",
    "import pandas as pd\n",
    "import numpy as np\n",
    "\n",
    "es = Elasticsearch(['atlas-kibana.mwt2.org:9200'], timeout=60)"
   ]
  },
  {
   "cell_type": "markdown",
   "metadata": {},
   "source": [
    "### select time period"
   ]
  },
  {
   "cell_type": "code",
   "execution_count": 2,
   "metadata": {},
   "outputs": [
    {
     "name": "stdout",
     "output_type": "stream",
     "text": [
      "start: 2018-08-01 00:00:00 end: 2018-08-10 00:00:00\n",
      "start: 1533081600000 end: 1533859200000\n"
     ]
    }
   ],
   "source": [
    "start_date = '2018-08-01 00:00:00'\n",
    "end_date = '2018-08-10 00:00:00'\n",
    "\n",
    "dataset = 'managed_AUG_1'\n",
    "\n",
    "print(\"start:\", start_date, \"end:\", end_date)\n",
    "start = int(pd.Timestamp(start_date).timestamp())*1000\n",
    "end = int(pd.Timestamp(end_date).timestamp())*1000\n",
    "\n",
    "print(\"start:\", start, \"end:\", end)"
   ]
  },
  {
   "cell_type": "markdown",
   "metadata": {},
   "source": [
    "### finds wall time, cores for all jobs.\n"
   ]
  },
  {
   "cell_type": "code",
   "execution_count": 3,
   "metadata": {},
   "outputs": [
    {
     "ename": "SyntaxError",
     "evalue": "invalid syntax (<ipython-input-3-171e1ac26f71>, line 18)",
     "output_type": "error",
     "traceback": [
      "\u001b[0;36m  File \u001b[0;32m\"<ipython-input-3-171e1ac26f71>\"\u001b[0;36m, line \u001b[0;32m18\u001b[0m\n\u001b[0;31m    requests.append([r['pandaid'], r['wall_time'], r['actualcorecount'], r['inputfiletype'])\u001b[0m\n\u001b[0m                                                                                           ^\u001b[0m\n\u001b[0;31mSyntaxError\u001b[0m\u001b[0;31m:\u001b[0m invalid syntax\n"
     ]
    }
   ],
   "source": [
    "job_query = {\n",
    "    \"_source\": [\"actualcorecount\", \"wall_time\", \"pandaid\", \"inputfiletype\", \"creationtime\",\"prodsourcelabel\"],\n",
    "    'query': {\n",
    "        'bool': {\n",
    "            'must': [\n",
    "                {'term': {'prodsourcelabel': 'managed'}},\n",
    "                {'range': {'creationtime': {'gte': start, 'lt': end}}}\n",
    "            ]\n",
    "        }\n",
    "    }\n",
    "}\n",
    "\n",
    "scroll = scan(client=es, index=\"jobs\", query=job_query)\n",
    "count = 0\n",
    "requests = []\n",
    "for res in scroll:\n",
    "    r = res['_source']\n",
    "    requests.append([r['pandaid'], r['wall_time'], r['actualcorecount'], r['inputfiletype']])\n",
    "\n",
    "    if not count % 100000:\n",
    "        print(count)\n",
    "#     if count>300:\n",
    "#         break\n",
    "    count = count + 1\n"
   ]
  },
  {
   "cell_type": "code",
   "execution_count": null,
   "metadata": {},
   "outputs": [],
   "source": [
    "all_jobs = pd.DataFrame(requests).sort_values(0)\n",
    "all_jobs.columns = ['pandaid', 'wall_time', 'cores', 'type']\n",
    "minpid = int(all_jobs.pandaid.min())\n",
    "maxpid = int(all_jobs.pandaid.max())\n",
    "print(\"jobs:\", all_jobs.shape[0], \"min\", minpid, \"max\", maxpid)"
   ]
  },
  {
   "cell_type": "markdown",
   "metadata": {},
   "source": [
    "### select traces\n"
   ]
  },
  {
   "cell_type": "code",
   "execution_count": null,
   "metadata": {},
   "outputs": [],
   "source": [
    "trace_query = {\n",
    "    \"_source\": [\"time_start\", \"time_end\",  \"event\", \"scope\", \"filename\", \"filesize\", \"pandaID\"],\n",
    "    'query': {\n",
    "        'bool': {\n",
    "            'must': [\n",
    "                {'range': {'pandaID': {'gte': minpid, 'lt': maxpid}}},\n",
    "                {'exists': {\"field\": \"filename\"}},\n",
    "                {'exists': {\"field\": \"pandaID\"}},\n",
    "                # {'wildcard': {'event': 'get_sm*'}},\n",
    "                {'term': {'event': 'get_sm'}}\n",
    "                # {'term': {'event': 'get_sm_a'}},\n",
    "                # {'term': {'event': 'download'}},\n",
    "            ]\n",
    "        }\n",
    "    }\n",
    "}"
   ]
  },
  {
   "cell_type": "markdown",
   "metadata": {},
   "source": [
    "### Does scan\n"
   ]
  },
  {
   "cell_type": "code",
   "execution_count": null,
   "metadata": {},
   "outputs": [],
   "source": [
    "scroll = scan(client=es, index=\"traces\", query=trace_query)\n",
    "count = 0\n",
    "requests = []\n",
    "for res in scroll:\n",
    "    r = res['_source']\n",
    "    requests.append([r['scope'] + ':' + r['filename'], r['filesize'], r['time_start'], r['pandaID']])\n",
    "\n",
    "    if not count % 100000:\n",
    "        print(count)\n",
    "#     if count>300:\n",
    "#         break\n",
    "    count = count + 1\n",
    "\n",
    "all_accesses = pd.DataFrame(requests).sort_values(3)\n",
    "all_accesses.columns = ['filename', 'filesize', 'transfer_start', 'pandaid']"
   ]
  },
  {
   "cell_type": "code",
   "execution_count": null,
   "metadata": {},
   "outputs": [],
   "source": [
    "pids = all_accesses.pandaid.unique()\n",
    "print(\"Unique PandaIDs\", len(pids), 'traces loaded', len(requests), 'jobs not accounted', (1-len(pids)/all_jobs.shape[0])*100, \"%\")\n"
   ]
  },
  {
   "cell_type": "code",
   "execution_count": null,
   "metadata": {},
   "outputs": [],
   "source": [
    "all_accesses.set_index('pandaid', drop=True, inplace=True)\n",
    "all_jobs.set_index('pandaid', drop=True, inplace=True)\n",
    "\n",
    "all=all_accesses.join(all_jobs,how='inner')\n",
    "all.describe()\n"
   ]
  },
  {
   "cell_type": "code",
   "execution_count": null,
   "metadata": {},
   "outputs": [],
   "source": [
    "print(all.head())\n",
    "all.to_hdf(dataset + '.h5', key=\"prod\", mode='w', complevel=1)"
   ]
  },
  {
   "cell_type": "code",
   "execution_count": null,
   "metadata": {},
   "outputs": [],
   "source": [
    "print('traces:',all_accesses.shape[0])\n",
    "print('jobs:',all_jobs.shape[0])\n",
    "print('merged:',all.shape[0])\n",
    "print('Done.')"
   ]
  },
  {
   "cell_type": "code",
   "execution_count": null,
   "metadata": {},
   "outputs": [],
   "source": []
  }
 ],
 "metadata": {
  "file_extension": ".py",
  "kernelspec": {
   "display_name": "Python 3",
   "language": "python",
   "name": "python3"
  },
  "language_info": {
   "codemirror_mode": {
    "name": "ipython",
    "version": 3
   },
   "file_extension": ".py",
   "mimetype": "text/x-python",
   "name": "python",
   "nbconvert_exporter": "python",
   "pygments_lexer": "ipython3",
   "version": "3.5.2"
  },
  "mimetype": "text/x-python",
  "name": "python",
  "npconvert_exporter": "python",
  "pygments_lexer": "ipython3",
  "version": 3
 },
 "nbformat": 4,
 "nbformat_minor": 2
}
